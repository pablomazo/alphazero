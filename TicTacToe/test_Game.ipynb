{
 "cells": [
  {
   "cell_type": "code",
   "execution_count": 1,
   "metadata": {},
   "outputs": [],
   "source": [
    "from Game import TicTacToe_Board\n",
    "from random import randint"
   ]
  },
  {
   "cell_type": "code",
   "execution_count": 2,
   "metadata": {},
   "outputs": [],
   "source": [
    "game = TicTacToe_Board"
   ]
  },
  {
   "cell_type": "code",
   "execution_count": 7,
   "metadata": {},
   "outputs": [
    {
     "name": "stdout",
     "output_type": "stream",
     "text": [
      "-------------\n",
      "|   |   | x | \n",
      "-------------\n",
      "|   |   |   | \n",
      "-------------\n",
      "|   |   |   | \n",
      "-------------\n",
      "-------------\n",
      "|   |   | x | \n",
      "-------------\n",
      "|   | o |   | \n",
      "-------------\n",
      "|   |   |   | \n",
      "-------------\n",
      "-------------\n",
      "|   | x | x | \n",
      "-------------\n",
      "|   | o |   | \n",
      "-------------\n",
      "|   |   |   | \n",
      "-------------\n",
      "-------------\n",
      "|   | x | x | \n",
      "-------------\n",
      "|   | o |   | \n",
      "-------------\n",
      "| o |   |   | \n",
      "-------------\n",
      "-------------\n",
      "| x | x | x | \n",
      "-------------\n",
      "|   | o |   | \n",
      "-------------\n",
      "| o |   |   | \n",
      "-------------\n",
      "True 1\n"
     ]
    }
   ],
   "source": [
    "# Make random game\n",
    "state = [0]*9\n",
    "end = False\n",
    "player = 1\n",
    "\n",
    "while not end:\n",
    "    ac = game.avail_actions(_,state)\n",
    "    a = randint(0,len(ac)-1)\n",
    "    state = game.play(_,state, ac[a], player)\n",
    "    end, winner = game.check_end(_,state)\n",
    "    player *= -1\n",
    "    \n",
    "    game.plot(_,state)\n",
    "    \n",
    "print(end, winner)"
   ]
  },
  {
   "cell_type": "code",
   "execution_count": null,
   "metadata": {},
   "outputs": [],
   "source": []
  }
 ],
 "metadata": {
  "kernelspec": {
   "display_name": "Python 3",
   "language": "python",
   "name": "python3"
  },
  "language_info": {
   "codemirror_mode": {
    "name": "ipython",
    "version": 3
   },
   "file_extension": ".py",
   "mimetype": "text/x-python",
   "name": "python",
   "nbconvert_exporter": "python",
   "pygments_lexer": "ipython3",
   "version": "3.7.9"
  }
 },
 "nbformat": 4,
 "nbformat_minor": 4
}
