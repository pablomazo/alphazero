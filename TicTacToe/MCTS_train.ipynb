{
 "cells": [
  {
   "cell_type": "code",
   "execution_count": 1,
   "metadata": {},
   "outputs": [],
   "source": [
    "import torch\n",
    "import torch.nn as nn\n",
    "import torch.nn.functional as F\n",
    "\n",
    "from collections import namedtuple\n",
    "from random import random\n",
    "import sys\n",
    "sys.path.append('../')"
   ]
  },
  {
   "cell_type": "code",
   "execution_count": 2,
   "metadata": {},
   "outputs": [],
   "source": [
    "from MCTS import MCTS\n",
    "from Node import Node\n",
    "from Game import TicTacToe_Board\n",
    "from ReplayMemory import ReplayMemory"
   ]
  },
  {
   "cell_type": "code",
   "execution_count": 3,
   "metadata": {},
   "outputs": [],
   "source": [
    "# Declare NN of policy:\n",
    "class DNN(nn.Module):\n",
    "    def __init__(self):\n",
    "        super(DNN, self).__init__()\n",
    "        \n",
    "        self.l1 = nn.Linear(9, 20)\n",
    "        self.l2 = nn.Linear(20, 9)\n",
    "        self.l3 = nn.Linear(20,1)\n",
    "        self.sm = nn.Softmax(dim=0)\n",
    "        \n",
    "    def forward(self, x):\n",
    "        x = F.relu(self.l1(x))\n",
    "        x1 = self.l2(x) # Logit value of policy\n",
    "        x1 = self.sm(x1)\n",
    "        x2 = torch.tanh(self.l3(x)) # Value head.\n",
    "        return x1, x2"
   ]
  },
  {
   "cell_type": "code",
   "execution_count": 4,
   "metadata": {},
   "outputs": [
    {
     "name": "stdout",
     "output_type": "stream",
     "text": [
      "1\n",
      "-------------\n",
      "|   |   |   | \n",
      "-------------\n",
      "|   |   |   | \n",
      "-------------\n",
      "|   | x |   | \n",
      "-------------\n",
      "-1\n",
      "-------------\n",
      "|   |   |   | \n",
      "-------------\n",
      "| o |   |   | \n",
      "-------------\n",
      "|   | x |   | \n",
      "-------------\n",
      "1\n",
      "-------------\n",
      "| x |   |   | \n",
      "-------------\n",
      "| o |   |   | \n",
      "-------------\n",
      "|   | x |   | \n",
      "-------------\n",
      "-1\n",
      "-------------\n",
      "| x |   |   | \n",
      "-------------\n",
      "| o |   |   | \n",
      "-------------\n",
      "| o | x |   | \n",
      "-------------\n",
      "1\n",
      "-------------\n",
      "| x | x |   | \n",
      "-------------\n",
      "| o |   |   | \n",
      "-------------\n",
      "| o | x |   | \n",
      "-------------\n",
      "-1\n",
      "-------------\n",
      "| x | x | o | \n",
      "-------------\n",
      "| o |   |   | \n",
      "-------------\n",
      "| o | x |   | \n",
      "-------------\n",
      "1\n",
      "-------------\n",
      "| x | x | o | \n",
      "-------------\n",
      "| o | x |   | \n",
      "-------------\n",
      "| o | x |   | \n",
      "-------------\n"
     ]
    }
   ],
   "source": [
    "#MCTS game:\n",
    "T = 0.3\n",
    "state = torch.tensor([0,0,0,0,0,0,0,0,0],dtype=torch.float)\n",
    "end = False\n",
    "player = -1\n",
    "\n",
    "dnn = DNN()\n",
    "game = TicTacToe_Board()\n",
    "root = Node(state, 1, player)\n",
    "mcts = MCTS(game, root, dnn)\n",
    "\n",
    "node = root\n",
    "while not end:\n",
    "    mcts.explore(node)\n",
    "    a = mcts.play(node, T)\n",
    "    node = node.children[a]\n",
    "    print(node.player)\n",
    "    game.plot(node.state)\n",
    "    \n",
    "    end, winner = game.check_end(node.state)"
   ]
  },
  {
   "cell_type": "markdown",
   "metadata": {},
   "source": [
    "# Train loop"
   ]
  },
  {
   "cell_type": "code",
   "execution_count": 5,
   "metadata": {},
   "outputs": [],
   "source": [
    "import matplotlib.pyplot as plt\n",
    "import matplotlib\n",
    "import numpy as np"
   ]
  },
  {
   "cell_type": "code",
   "execution_count": 6,
   "metadata": {},
   "outputs": [],
   "source": [
    "# set up matplotlib\n",
    "is_ipython = 'inline' in matplotlib.get_backend()\n",
    "if is_ipython:\n",
    "    from IPython import display\n",
    "\n",
    "\n",
    "\n",
    "def loss_plot(loss):\n",
    "    plt.figure(2)\n",
    "    plt.clf()\n",
    "    plt.title('Training...')\n",
    "    plt.xlabel('Episode')\n",
    "    plt.ylabel('Loss')\n",
    "    loss = np.array(loss)\n",
    "    plt.plot(loss[:,0], loss[:,1])\n",
    "\n",
    "    plt.pause(0.001)  # pause a bit so that plots are updated\n",
    "    if is_ipython:\n",
    "        display.display(plt.gcf())\n",
    "        display.clear_output(wait=True)"
   ]
  },
  {
   "cell_type": "code",
   "execution_count": 7,
   "metadata": {},
   "outputs": [],
   "source": [
    "CAPACITY = 1000\n",
    "REPLAY_START_SIZE = 100\n",
    "BATCH = 100\n",
    "\n",
    "EPISODES = 2000\n",
    "\n",
    "NGAMES=50"
   ]
  },
  {
   "cell_type": "code",
   "execution_count": 8,
   "metadata": {},
   "outputs": [],
   "source": [
    "Transition = namedtuple('Transition',('state', 'policy', 'reward'))"
   ]
  },
  {
   "cell_type": "code",
   "execution_count": 9,
   "metadata": {},
   "outputs": [],
   "source": [
    "dnn = DNN()\n",
    "replay_memory = ReplayMemory(CAPACITY)"
   ]
  },
  {
   "cell_type": "code",
   "execution_count": 10,
   "metadata": {},
   "outputs": [],
   "source": [
    "def loss_fn(z, v, policy, net_pol):\n",
    "    a = torch.mean(torch.pow(z-v,2))\n",
    "    b = (policy * torch.log(net_pol)).sum()\n",
    "    return a - b"
   ]
  },
  {
   "cell_type": "code",
   "execution_count": 11,
   "metadata": {},
   "outputs": [],
   "source": [
    "optimizer = torch.optim.SGD(dnn.parameters(), lr=1e-2, weight_decay=1e-4)"
   ]
  },
  {
   "cell_type": "code",
   "execution_count": 12,
   "metadata": {},
   "outputs": [],
   "source": [
    "def optimize(model, optimizer, loss_fn, memory):\n",
    "    if memory.__len__() < REPLAY_START_SIZE:\n",
    "        return\n",
    "    \n",
    "    transitions = memory.sample(BATCH)\n",
    "    batch = Transition(*zip(*transitions))\n",
    "    \n",
    "    states = torch.cat(batch.state).reshape([BATCH,-1])\n",
    "    policy = torch.cat(batch.policy).reshape([BATCH,-1])\n",
    "    z = torch.cat(batch.reward).reshape([BATCH,-1])\n",
    "    \n",
    "    net_pol, v = dnn(states)\n",
    "    \n",
    "    \n",
    "    loss = loss_fn(z,v,policy,net_pol)\n",
    "    optimizer.zero_grad()\n",
    "    loss.backward()\n",
    "    optimizer.step()\n",
    "    \n",
    "    return loss.data.item()"
   ]
  },
  {
   "cell_type": "code",
   "execution_count": 13,
   "metadata": {},
   "outputs": [],
   "source": [
    "# Train loop:\n",
    "def play_game():\n",
    "    T = 0.3\n",
    "    state = torch.tensor([0,0,0,0,0,0,0,0,0],dtype=torch.float)\n",
    "    end = False\n",
    "    player = -1\n",
    "    \n",
    "    \n",
    "    game = TicTacToe_Board()\n",
    "    root = Node(state, 1, player)\n",
    "    mcts = MCTS(game, root, dnn, ngames=NGAMES)\n",
    "    \n",
    "    node = root\n",
    "    \n",
    "    history = []\n",
    "    while not end:\n",
    "        history.append(node)\n",
    "        mcts.explore(node)\n",
    "        a = mcts.play(node, T)\n",
    "        node = node.children[a]\n",
    "        \n",
    "        end, winner = game.check_end(node.state)\n",
    "    \n",
    "    # Save play in replaymemory\n",
    "    for node in history:\n",
    "        policy = torch.tensor([0,0,0,0,0,0,0,0,0],dtype=torch.float)\n",
    "        p = mcts.eval_policy(node, 1)\n",
    "        for i, a in enumerate(game.avail_actions(node.state)):\n",
    "            policy[a] = p[i]\n",
    "            \n",
    "        replay_memory.add(node.state, policy, torch.tensor([-winner*node.player], dtype=torch.float))\n",
    "        \n",
    "    return winner"
   ]
  },
  {
   "cell_type": "code",
   "execution_count": 14,
   "metadata": {
    "scrolled": false
   },
   "outputs": [
    {
     "data": {
      "text/plain": [
       "<Figure size 432x288 with 0 Axes>"
      ]
     },
     "metadata": {},
     "output_type": "display_data"
    }
   ],
   "source": [
    "loss_hist = []\n",
    "winner = []\n",
    "fig, ax = plt.subplots(1,1)\n",
    "ax.set_xlabel('Episodes')\n",
    "ax.set_ylabel('Loss')\n",
    "\n",
    "plt.ion()\n",
    "for episode in range(EPISODES):\n",
    "    # Play game to fill memory\n",
    "    w = play_game()\n",
    "    winner.append([episode, w])\n",
    "    \n",
    "    # Optimize\n",
    "    for iopt in range(20):\n",
    "        loss = optimize(dnn, optimizer, loss_fn, replay_memory)\n",
    "    loss_hist.append([episode, loss])\n",
    "    \n",
    "    if len(winner) > 10:\n",
    "        win_prob = sum(w[1] for w in winner[-10:]) / len(winner[-10:])\n",
    "        print('Win mean:', win_prob)\n",
    "    print('Loss:', loss)\n",
    "    loss_plot(loss_hist)\n",
    "    \n",
    "plt.ioff()"
   ]
  },
  {
   "cell_type": "code",
   "execution_count": 15,
   "metadata": {},
   "outputs": [],
   "source": [
    " #Save model to file:\n",
    "torch.save(dnn.state_dict(), './TicTacToe_Agent.pth')"
   ]
  },
  {
   "cell_type": "code",
   "execution_count": 16,
   "metadata": {},
   "outputs": [],
   "source": [
    "loss_hist = np.array(loss_hist)\n",
    "winner_hist = np.array(winner)"
   ]
  },
  {
   "cell_type": "code",
   "execution_count": 17,
   "metadata": {},
   "outputs": [
    {
     "data": {
      "image/png": "[encoded data removed]",
      "text/plain": [
       "<Figure size 720x288 with 2 Axes>"
      ]
     },
     "metadata": {
      "needs_background": "light"
     },
     "output_type": "display_data"
    }
   ],
   "source": [
    "fig, ax = plt.subplots(1,2,figsize=(10,4))\n",
    "\n",
    "ax[0].plot(loss_hist[:,0], loss_hist[:,1])\n",
    "ax[1].plot(winner_hist[:,0], winner_hist[:,1])\n",
    "\n",
    "ax[0].set_xlabel('Episode')\n",
    "ax[0].set_ylabel('Loss')\n",
    "\n",
    "\n",
    "ax[1].set_xlabel('Episode')\n",
    "ax[1].set_ylabel('Win mean')\n",
    "\n",
    "plt.savefig('loss_wins.png',bbox_inches='tight')\n",
    "plt.show()"
   ]
  },
  {
   "cell_type": "code",
   "execution_count": 18,
   "metadata": {},
   "outputs": [
    {
     "name": "stdout",
     "output_type": "stream",
     "text": [
      "-------------\n",
      "| x | o | x | \n",
      "-------------\n",
      "| o |   | x | \n",
      "-------------\n",
      "|   | o |   | \n",
      "-------------\n",
      "-------------\n",
      "| x | o | x | \n",
      "-------------\n",
      "| o |   | x | \n",
      "-------------\n",
      "| o | o |   | \n",
      "-------------\n",
      "tensor([ 1., -1.,  1., -1.,  0.,  1., -1., -1.,  0.])\n"
     ]
    }
   ],
   "source": [
    "#Test:\n",
    "state = torch.tensor([ 1., -1.,  1., -1., 0,  1,  0.,  -1.,  0.],dtype=torch.float)\n",
    "end = False\n",
    "player = 1\n",
    "\n",
    "game = TicTacToe_Board()\n",
    "root = Node(state, 1, player)\n",
    "mcts = MCTS(game, root, dnn)\n",
    "\n",
    "game.plot(state)\n",
    "node = root\n",
    "# Expand state:\n",
    "mcts.player *= -1\n",
    "actions = game.avail_actions(node.state)\n",
    "mcts.expand(node, actions)\n",
    "a = torch.argmax(torch.tensor([child.P for child in node.children]))\n",
    "node = node.children[a]\n",
    "game.plot(node.state)\n",
    "print(node.state)"
   ]
  },
  {
   "cell_type": "code",
   "execution_count": null,
   "metadata": {},
   "outputs": [],
   "source": []
  }
 ],
 "metadata": {
  "kernelspec": {
   "display_name": "Python 3",
   "language": "python",
   "name": "python3"
  },
  "language_info": {
   "codemirror_mode": {
    "name": "ipython",
    "version": 3
   },
   "file_extension": ".py",
   "mimetype": "text/x-python",
   "name": "python",
   "nbconvert_exporter": "python",
   "pygments_lexer": "ipython3",
   "version": "3.7.9"
  }
 },
 "nbformat": 4,
 "nbformat_minor": 4
}
