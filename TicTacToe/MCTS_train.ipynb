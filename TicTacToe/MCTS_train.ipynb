{
 "cells": [
  {
   "cell_type": "code",
   "execution_count": 1,
   "metadata": {},
   "outputs": [],
   "source": [
    "import torch\n",
    "import torch.nn as nn\n",
    "import torch.nn.functional as F\n",
    "\n",
    "from collections import namedtuple\n",
    "from random import random\n",
    "import sys\n",
    "sys.path.append('../')"
   ]
  },
  {
   "cell_type": "code",
   "execution_count": 2,
   "metadata": {},
   "outputs": [],
   "source": [
    "from MCTS import MCTS\n",
    "from Node import Node\n",
    "from Game import TicTacToe_Board\n",
    "from ReplayMemory import ReplayMemory"
   ]
  },
  {
   "cell_type": "code",
   "execution_count": 82,
   "metadata": {},
   "outputs": [],
   "source": [
    "# Declare NN of policy:\n",
    "class DNN(nn.Module):\n",
    "    def __init__(self):\n",
    "        super(DNN, self).__init__()\n",
    "        \n",
    "        self.l1 = nn.Linear(9, 20)\n",
    "        self.l2 = nn.Linear(20, 9)\n",
    "        self.l3 = nn.Linear(20,1)\n",
    "        self.sm = nn.Softmax(dim=0)\n",
    "        \n",
    "    def forward(self, x):\n",
    "        x = F.relu(self.l1(x))\n",
    "        x1 = self.l2(x) # Logit value of policy\n",
    "        x1 = self.sm(x1)\n",
    "        x2 = torch.tanh(self.l3(x)) # Value head.\n",
    "        return x1, x2"
   ]
  },
  {
   "cell_type": "code",
   "execution_count": 4,
   "metadata": {},
   "outputs": [
    {
     "name": "stdout",
     "output_type": "stream",
     "text": [
      "1\n",
      "-------------\n",
      "|   |   |   | \n",
      "-------------\n",
      "|   |   |   | \n",
      "-------------\n",
      "|   | x |   | \n",
      "-------------\n",
      "-1\n",
      "-------------\n",
      "| o |   |   | \n",
      "-------------\n",
      "|   |   |   | \n",
      "-------------\n",
      "|   | x |   | \n",
      "-------------\n",
      "1\n",
      "-------------\n",
      "| o |   | x | \n",
      "-------------\n",
      "|   |   |   | \n",
      "-------------\n",
      "|   | x |   | \n",
      "-------------\n",
      "-1\n",
      "-------------\n",
      "| o |   | x | \n",
      "-------------\n",
      "| o |   |   | \n",
      "-------------\n",
      "|   | x |   | \n",
      "-------------\n",
      "1\n",
      "-------------\n",
      "| o |   | x | \n",
      "-------------\n",
      "| o |   | x | \n",
      "-------------\n",
      "|   | x |   | \n",
      "-------------\n",
      "-1\n",
      "-------------\n",
      "| o |   | x | \n",
      "-------------\n",
      "| o |   | x | \n",
      "-------------\n",
      "| o | x |   | \n",
      "-------------\n"
     ]
    }
   ],
   "source": [
    "#MCTS game:\n",
    "T = 0.3\n",
    "state = torch.tensor([0,0,0,0,0,0,0,0,0],dtype=torch.float)\n",
    "end = False\n",
    "player = -1\n",
    "\n",
    "dnn = DNN()\n",
    "game = TicTacToe_Board()\n",
    "root = Node(state, 1, player)\n",
    "mcts = MCTS(game, root, dnn)\n",
    "\n",
    "node = root\n",
    "while not end:\n",
    "    mcts.explore(node)\n",
    "    a = mcts.play(node, T)\n",
    "    node = node.children[a]\n",
    "    print(node.player)\n",
    "    game.plot(node.state)\n",
    "    \n",
    "    end, winner = game.check_end(node.state)"
   ]
  },
  {
   "cell_type": "markdown",
   "metadata": {},
   "source": [
    "# Train loop"
   ]
  },
  {
   "cell_type": "code",
   "execution_count": 5,
   "metadata": {},
   "outputs": [],
   "source": [
    "import matplotlib.pyplot as plt\n",
    "import matplotlib\n",
    "import numpy as np"
   ]
  },
  {
   "cell_type": "code",
   "execution_count": 6,
   "metadata": {},
   "outputs": [],
   "source": [
    "# set up matplotlib\n",
    "is_ipython = 'inline' in matplotlib.get_backend()\n",
    "if is_ipython:\n",
    "    from IPython import display\n",
    "\n",
    "\n",
    "\n",
    "def loss_plot(loss):\n",
    "    plt.figure(2)\n",
    "    plt.clf()\n",
    "    plt.title('Training...')\n",
    "    plt.xlabel('Episode')\n",
    "    plt.ylabel('Loss')\n",
    "    loss = np.array(loss)\n",
    "    plt.plot(loss[:,0], loss[:,1])\n",
    "\n",
    "    plt.pause(0.001)  # pause a bit so that plots are updated\n",
    "    if is_ipython:\n",
    "        display.display(plt.gcf())\n",
    "        display.clear_output(wait=True)"
   ]
  },
  {
   "cell_type": "code",
   "execution_count": 147,
   "metadata": {},
   "outputs": [],
   "source": [
    "CAPACITY = 1000\n",
    "REPLAY_START_SIZE = 100\n",
    "BATCH = 100\n",
    "\n",
    "EPISODES = 1000\n",
    "\n",
    "NGAMES=50"
   ]
  },
  {
   "cell_type": "code",
   "execution_count": 148,
   "metadata": {},
   "outputs": [],
   "source": [
    "Transition = namedtuple('Transition',('state', 'policy', 'reward'))"
   ]
  },
  {
   "cell_type": "code",
   "execution_count": 149,
   "metadata": {},
   "outputs": [],
   "source": [
    "dnn = DNN()\n",
    "replay_memory = ReplayMemory(CAPACITY)"
   ]
  },
  {
   "cell_type": "code",
   "execution_count": 150,
   "metadata": {},
   "outputs": [],
   "source": [
    "def loss_fn(z, v, policy, net_pol):\n",
    "    a = torch.mean(torch.pow(z-v,2))\n",
    "    b = (policy * torch.log(net_pol)).sum()\n",
    "    return a - b"
   ]
  },
  {
   "cell_type": "code",
   "execution_count": 151,
   "metadata": {},
   "outputs": [],
   "source": [
    "optimizer = torch.optim.SGD(dnn.parameters(), lr=1e-2, weight_decay=1e-4)"
   ]
  },
  {
   "cell_type": "code",
   "execution_count": 152,
   "metadata": {},
   "outputs": [],
   "source": [
    "def optimize(model, optimizer, loss_fn, memory):\n",
    "    if memory.__len__() < REPLAY_START_SIZE:\n",
    "        return\n",
    "    \n",
    "    transitions = memory.sample(BATCH)\n",
    "    batch = Transition(*zip(*transitions))\n",
    "    \n",
    "    states = torch.cat(batch.state).reshape([BATCH,-1])\n",
    "    policy = torch.cat(batch.policy).reshape([BATCH,-1])\n",
    "    z = torch.cat(batch.reward).reshape([BATCH,-1])\n",
    "    \n",
    "    net_pol, v = dnn(states)\n",
    "    \n",
    "    \n",
    "    loss = loss_fn(z,v,policy,net_pol)\n",
    "    optimizer.zero_grad()\n",
    "    loss.backward()\n",
    "    optimizer.step()\n",
    "    \n",
    "    return loss.data.item()"
   ]
  },
  {
   "cell_type": "code",
   "execution_count": 153,
   "metadata": {},
   "outputs": [],
   "source": [
    "# Train loop:\n",
    "def play_game():\n",
    "    T = 0.3\n",
    "    state = torch.tensor([0,0,0,0,0,0,0,0,0],dtype=torch.float)\n",
    "    end = False\n",
    "    player = -1\n",
    "    \n",
    "    \n",
    "    game = TicTacToe_Board()\n",
    "    root = Node(state, 1, player)\n",
    "    mcts = MCTS(game, root, dnn, ngames=NGAMES)\n",
    "    \n",
    "    node = root\n",
    "    \n",
    "    history = []\n",
    "    while not end:\n",
    "        history.append(node)\n",
    "        mcts.explore(node)\n",
    "        a = mcts.play(node, T)\n",
    "        node = node.children[a]\n",
    "        \n",
    "        end, winner = game.check_end(node.state)\n",
    "    \n",
    "    # Save play in replaymemory\n",
    "    for node in history:\n",
    "        policy = torch.tensor([0,0,0,0,0,0,0,0,0],dtype=torch.float)\n",
    "        p = mcts.eval_policy(node, 1)\n",
    "        for i, a in enumerate(game.avail_actions(node.state)):\n",
    "            policy[a] = p[i]\n",
    "            \n",
    "        replay_memory.add(node.state, policy, torch.tensor([-winner*node.player], dtype=torch.float))\n",
    "        \n",
    "    return winner"
   ]
  },
  {
   "cell_type": "code",
   "execution_count": 154,
   "metadata": {
    "scrolled": false
   },
   "outputs": [
    {
     "data": {
      "text/plain": [
       "<Figure size 432x288 with 0 Axes>"
      ]
     },
     "metadata": {},
     "output_type": "display_data"
    }
   ],
   "source": [
    "loss_hist = []\n",
    "winner = []\n",
    "fig, ax = plt.subplots(1,1)\n",
    "ax.set_xlabel('Episodes')\n",
    "ax.set_ylabel('Loss')\n",
    "\n",
    "plt.ion()\n",
    "for episode in range(EPISODES):\n",
    "    # Play game to fill memory\n",
    "    w = play_game()\n",
    "    winner.append([episode, w])\n",
    "    \n",
    "    # Optimize\n",
    "    for iopt in range(20):\n",
    "        loss = optimize(dnn, optimizer, loss_fn, replay_memory)\n",
    "    loss_hist.append([episode, loss])\n",
    "    \n",
    "    if len(winner) > 10:\n",
    "        win_prob = sum(w[1] for w in winner[-10:]) / len(winner[-10:])\n",
    "        print('Win mean:', win_prob)\n",
    "    print('Loss:', loss)\n",
    "    loss_plot(loss_hist)\n",
    "    \n",
    "plt.ioff()"
   ]
  },
  {
   "cell_type": "code",
   "execution_count": 155,
   "metadata": {},
   "outputs": [
    {
     "data": {
      "text/plain": [
       "[<matplotlib.lines.Line2D at 0x7f73ef449950>]"
      ]
     },
     "execution_count": 155,
     "metadata": {},
     "output_type": "execute_result"
    },
    {
     "data": {
      "image/png": "[encoded data removed]",
      "text/plain": [
       "<Figure size 432x288 with 1 Axes>"
      ]
     },
     "metadata": {
      "needs_background": "light"
     },
     "output_type": "display_data"
    }
   ],
   "source": [
    "winner = np.array(winner)\n",
    "\n",
    "plt.plot(winner[:,0], winner[:,1])"
   ]
  },
  {
   "cell_type": "code",
   "execution_count": 156,
   "metadata": {},
   "outputs": [
    {
     "name": "stdout",
     "output_type": "stream",
     "text": [
      "(tensor([1.3749e-02, 1.2155e-05, 4.9972e-03, 7.9449e-07, 1.1551e-04, 9.8059e-01,\n",
      "        5.2985e-04, 4.3081e-06, 5.8526e-06], grad_fn=<SoftmaxBackward>), tensor([5.0433e-05], grad_fn=<TanhBackward>))\n",
      "-------------\n",
      "|   |   |   | \n",
      "-------------\n",
      "|   |   | x | \n",
      "-------------\n",
      "|   |   |   | \n",
      "-------------\n",
      "(tensor([1.4466e-03, 1.4406e-07, 2.2420e-06, 7.1025e-11, 9.9823e-01, 2.5911e-06,\n",
      "        3.1005e-04, 2.4823e-08, 8.8339e-06], grad_fn=<SoftmaxBackward>), tensor([8.8550e-06], grad_fn=<TanhBackward>))\n",
      "-------------\n",
      "|   |   |   | \n",
      "-------------\n",
      "|   | o | x | \n",
      "-------------\n",
      "|   |   |   | \n",
      "-------------\n",
      "(tensor([4.9501e-03, 2.1148e-04, 2.2442e-04, 1.3747e-07, 3.3115e-07, 1.5657e-08,\n",
      "        2.4574e-03, 3.1245e-06, 9.9215e-01], grad_fn=<SoftmaxBackward>), tensor([2.8234e-05], grad_fn=<TanhBackward>))\n",
      "-------------\n",
      "|   |   |   | \n",
      "-------------\n",
      "|   | o | x | \n",
      "-------------\n",
      "|   |   | x | \n",
      "-------------\n",
      "(tensor([6.5171e-05, 1.8541e-03, 8.9507e-01, 1.1315e-06, 8.6773e-10, 3.4337e-12,\n",
      "        1.0299e-01, 2.3266e-05, 1.8534e-07], grad_fn=<SoftmaxBackward>), tensor([-2.3611e-05], grad_fn=<TanhBackward>))\n",
      "-------------\n",
      "|   |   | o | \n",
      "-------------\n",
      "|   | o | x | \n",
      "-------------\n",
      "|   |   | x | \n",
      "-------------\n",
      "(tensor([1.1572e-05, 9.9837e-07, 3.6876e-07, 8.4487e-09, 2.3620e-12, 9.6329e-10,\n",
      "        9.9999e-01, 1.0379e-07, 9.8628e-13], grad_fn=<SoftmaxBackward>), tensor([-5.6572e-05], grad_fn=<TanhBackward>))\n",
      "-------------\n",
      "|   |   | o | \n",
      "-------------\n",
      "|   | o | x | \n",
      "-------------\n",
      "| x |   | x | \n",
      "-------------\n",
      "(tensor([2.3685e-04, 1.5563e-02, 7.7358e-06, 2.1756e-03, 1.6625e-10, 1.6445e-07,\n",
      "        2.9653e-08, 9.8202e-01, 3.3123e-12], grad_fn=<SoftmaxBackward>), tensor([7.0419e-05], grad_fn=<TanhBackward>))\n",
      "-------------\n",
      "|   |   | o | \n",
      "-------------\n",
      "|   | o | x | \n",
      "-------------\n",
      "| x | o | x | \n",
      "-------------\n",
      "(tensor([1.5470e-04, 9.9980e-01, 2.1171e-08, 2.1484e-05, 3.5190e-09, 8.6873e-10,\n",
      "        2.6724e-07, 2.4234e-05, 9.0608e-10], grad_fn=<SoftmaxBackward>), tensor([-4.2841e-06], grad_fn=<TanhBackward>))\n",
      "-------------\n",
      "|   | x | o | \n",
      "-------------\n",
      "|   | o | x | \n",
      "-------------\n",
      "| x | o | x | \n",
      "-------------\n",
      "(tensor([2.1302e-03, 1.5305e-07, 2.9729e-06, 9.9784e-01, 5.6262e-09, 4.0193e-08,\n",
      "        7.3711e-06, 1.8082e-05, 2.0377e-07], grad_fn=<SoftmaxBackward>), tensor([5.4475e-05], grad_fn=<TanhBackward>))\n",
      "-------------\n",
      "|   | x | o | \n",
      "-------------\n",
      "| o | o | x | \n",
      "-------------\n",
      "| x | o | x | \n",
      "-------------\n",
      "(tensor([9.9987e-01, 1.7186e-09, 8.5495e-07, 1.1212e-04, 3.7552e-06, 2.6084e-09,\n",
      "        1.4553e-05, 7.7378e-07, 2.1688e-07], grad_fn=<SoftmaxBackward>), tensor([-3.3941e-05], grad_fn=<TanhBackward>))\n",
      "-------------\n",
      "| x | x | o | \n",
      "-------------\n",
      "| o | o | x | \n",
      "-------------\n",
      "| x | o | x | \n",
      "-------------\n"
     ]
    }
   ],
   "source": [
    "#Test:\n",
    "state = torch.tensor([0,0,0,0,0,0,0,0,0],dtype=torch.float)\n",
    "end = False\n",
    "player = -1\n",
    "\n",
    "game = TicTacToe_Board()\n",
    "root = Node(state, 1, player)\n",
    "mcts = MCTS(game, root, dnn)\n",
    "\n",
    "node = root\n",
    "while not end:\n",
    "    # Expand state:\n",
    "    mcts.player *= -1\n",
    "    actions = game.avail_actions(node.state)\n",
    "    mcts.expand(node, actions)\n",
    "    a = torch.argmax(torch.tensor([child.P for child in node.children]))\n",
    "    print(dnn(node.state))\n",
    "    node = node.children[a]\n",
    "    game.plot(node.state)\n",
    "    \n",
    "    end, winner = game.check_end(node.state)"
   ]
  },
  {
   "cell_type": "code",
   "execution_count": 113,
   "metadata": {},
   "outputs": [
    {
     "name": "stdout",
     "output_type": "stream",
     "text": [
      "-------------\n",
      "| x | x |   | \n",
      "-------------\n",
      "|   |   |   | \n",
      "-------------\n",
      "| o |   |   | \n",
      "-------------\n",
      "tensor(5) (tensor([6.7941e-04, 3.8145e-03, 4.4504e-03, 1.5902e-03, 1.4563e-04, 9.8577e-01,\n",
      "        5.8544e-09, 1.6703e-03, 1.8838e-03]), tensor([0.2423]))\n"
     ]
    }
   ],
   "source": [
    "state = torch.tensor([1,1,0,0,0,0,-1,0,0],dtype=torch.float)\n",
    "game.plot(state)\n",
    "with torch.no_grad():\n",
    "    policy = dnn(-state)\n",
    "print(torch.argmax(policy[0]), policy)"
   ]
  },
  {
   "cell_type": "code",
   "execution_count": 114,
   "metadata": {},
   "outputs": [
    {
     "name": "stdout",
     "output_type": "stream",
     "text": [
      "-------------\n",
      "| x | x |   | \n",
      "-------------\n",
      "|   |   |   | \n",
      "-------------\n",
      "| o |   |   | \n",
      "-------------\n",
      "tensor(5) (tensor([4.2972e-04, 3.3410e-03, 1.8668e-01, 5.0187e-03, 4.2102e-05, 7.8348e-01,\n",
      "        6.1674e-07, 8.0598e-03, 1.2950e-02]), tensor([-0.0011]))\n"
     ]
    }
   ],
   "source": [
    "state = torch.tensor([1,1,0,0,0,0,-1,0,0],dtype=torch.float)\n",
    "game.plot(state)\n",
    "with torch.no_grad():\n",
    "    policy = dnn(state)\n",
    "print(torch.argmax(policy[0]), policy)"
   ]
  },
  {
   "cell_type": "code",
   "execution_count": 157,
   "metadata": {},
   "outputs": [
    {
     "name": "stdout",
     "output_type": "stream",
     "text": [
      "-------------\n",
      "|   |   |   | \n",
      "-------------\n",
      "|   |   |   | \n",
      "-------------\n",
      "|   |   |   | \n",
      "-------------\n",
      "tensor([0.0204, 0.0000, 0.0000, 0.0000, 0.0000, 0.9796, 0.0000, 0.0000, 0.0000]) 0.0\n",
      "(tensor([1.3749e-02, 1.2155e-05, 4.9972e-03, 7.9449e-07, 1.1551e-04, 9.8059e-01,\n",
      "        5.2985e-04, 4.3081e-06, 5.8526e-06]), tensor([5.0433e-05]))\n",
      "-------------\n",
      "|   |   |   | \n",
      "-------------\n",
      "|   |   | x | \n",
      "-------------\n",
      "|   |   |   | \n",
      "-------------\n",
      "tensor([0.0103, 0.0000, 0.0000, 0.0000, 0.9897, 0.0000, 0.0000, 0.0000, 0.0000]) tensor([0.0239])\n",
      "(tensor([1.4466e-03, 1.4406e-07, 2.2420e-06, 7.1025e-11, 9.9823e-01, 2.5911e-06,\n",
      "        3.1005e-04, 2.4823e-08, 8.8339e-06]), tensor([8.8550e-06]))\n",
      "-------------\n",
      "|   |   |   | \n",
      "-------------\n",
      "|   | o | x | \n",
      "-------------\n",
      "|   |   |   | \n",
      "-------------\n",
      "tensor([0.0069, 0.0000, 0.0000, 0.0000, 0.0000, 0.0000, 0.0000, 0.0000, 0.9931]) tensor([-0.0112])\n",
      "(tensor([4.9501e-03, 2.1148e-04, 2.2442e-04, 1.3747e-07, 3.3115e-07, 1.5657e-08,\n",
      "        2.4574e-03, 3.1245e-06, 9.9215e-01]), tensor([2.8234e-05]))\n",
      "-------------\n",
      "|   |   |   | \n",
      "-------------\n",
      "|   | o | x | \n",
      "-------------\n",
      "|   |   | x | \n",
      "-------------\n",
      "tensor([0.0052, 0.0000, 0.9793, 0.0000, 0.0000, 0.0000, 0.0155, 0.0000, 0.0000]) tensor([0.0075])\n",
      "(tensor([6.5171e-05, 1.8541e-03, 8.9507e-01, 1.1315e-06, 8.6773e-10, 3.4337e-12,\n",
      "        1.0299e-01, 2.3266e-05, 1.8534e-07]), tensor([-2.3611e-05]))\n",
      "-------------\n",
      "|   |   | o | \n",
      "-------------\n",
      "|   | o | x | \n",
      "-------------\n",
      "|   |   | x | \n",
      "-------------\n",
      "tensor([0.0042, 0.0000, 0.0000, 0.0000, 0.0000, 0.0000, 0.9958, 0.0000, 0.0000]) tensor([-0.0002])\n",
      "(tensor([1.1572e-05, 9.9837e-07, 3.6876e-07, 8.4487e-09, 2.3620e-12, 9.6329e-10,\n",
      "        9.9999e-01, 1.0379e-07, 9.8628e-13]), tensor([-5.6572e-05]))\n",
      "-------------\n",
      "|   |   | o | \n",
      "-------------\n",
      "|   | o | x | \n",
      "-------------\n",
      "| x |   | x | \n",
      "-------------\n",
      "tensor([0.0035, 0.0105, 0.0000, 0.0000, 0.0000, 0.0000, 0.0000, 0.9860, 0.0000]) tensor([0.0045])\n",
      "(tensor([2.3685e-04, 1.5563e-02, 7.7358e-06, 2.1756e-03, 1.6625e-10, 1.6445e-07,\n",
      "        2.9653e-08, 9.8202e-01, 3.3123e-12]), tensor([7.0419e-05]))\n",
      "-------------\n",
      "|   |   | o | \n",
      "-------------\n",
      "|   | o | x | \n",
      "-------------\n",
      "| x | o | x | \n",
      "-------------\n",
      "tensor([0.0030, 0.9970, 0.0000, 0.0000, 0.0000, 0.0000, 0.0000, 0.0000, 0.0000]) tensor([-6.0137e-05])\n",
      "(tensor([1.5470e-04, 9.9980e-01, 2.1171e-08, 2.1484e-05, 3.5190e-09, 8.6873e-10,\n",
      "        2.6724e-07, 2.4234e-05, 9.0608e-10]), tensor([-4.2841e-06]))\n",
      "-------------\n",
      "|   | x | o | \n",
      "-------------\n",
      "|   | o | x | \n",
      "-------------\n",
      "| x | o | x | \n",
      "-------------\n",
      "tensor([0.0026, 0.0000, 0.0000, 0.9974, 0.0000, 0.0000, 0.0000, 0.0000, 0.0000]) tensor([7.7222e-05])\n",
      "(tensor([2.1302e-03, 1.5305e-07, 2.9729e-06, 9.9784e-01, 5.6262e-09, 4.0193e-08,\n",
      "        7.3711e-06, 1.8082e-05, 2.0377e-07]), tensor([5.4475e-05]))\n",
      "-------------\n",
      "|   | x | o | \n",
      "-------------\n",
      "| o | o | x | \n",
      "-------------\n",
      "| x | o | x | \n",
      "-------------\n",
      "tensor([1., 0., 0., 0., 0., 0., 0., 0., 0.]) tensor([8.9791e-08])\n",
      "(tensor([9.9987e-01, 1.7186e-09, 8.5495e-07, 1.1212e-04, 3.7552e-06, 2.6084e-09,\n",
      "        1.4553e-05, 7.7378e-07, 2.1688e-07]), tensor([-3.3941e-05]))\n"
     ]
    }
   ],
   "source": [
    "T = 0.3\n",
    "state = torch.tensor([0,0,0,0,0,0,0,0,0],dtype=torch.float)\n",
    "end = False\n",
    "player = -1\n",
    "\n",
    "\n",
    "game = TicTacToe_Board()\n",
    "root = Node(state, 1, player)\n",
    "mcts = MCTS(game, root, dnn, ngames=NGAMES)\n",
    "\n",
    "node = root\n",
    "\n",
    "history = []\n",
    "while not end:\n",
    "    history.append(node)\n",
    "    mcts.explore(node)\n",
    "    a = mcts.play(node, T)\n",
    "    node = node.children[a]\n",
    "    \n",
    "    end, winner = game.check_end(node.state)\n",
    "\n",
    "# Save play in replaymemory\n",
    "for node in history:\n",
    "    policy = torch.tensor([0,0,0,0,0,0,0,0,0],dtype=torch.float)\n",
    "    p = mcts.eval_policy(node, 1)\n",
    "    for i, a in enumerate(game.avail_actions(node.state)):\n",
    "        policy[a] = p[i]\n",
    "        \n",
    "    game.plot(node.state)\n",
    "    print(policy, node.Q)\n",
    "    with torch.no_grad():\n",
    "        print(dnn(node.state))\n",
    "    \n",
    "    replay_memory.add(node.state, policy, torch.tensor([-winner*node.player], dtype=torch.float))"
   ]
  },
  {
   "cell_type": "code",
   "execution_count": 171,
   "metadata": {},
   "outputs": [
    {
     "name": "stdout",
     "output_type": "stream",
     "text": [
      "-------------\n",
      "| x | o | x | \n",
      "-------------\n",
      "| o | o | x | \n",
      "-------------\n",
      "|   | x |   | \n",
      "-------------\n",
      "-------------\n",
      "| x | o | x | \n",
      "-------------\n",
      "| o | o | x | \n",
      "-------------\n",
      "|   | x | o | \n",
      "-------------\n",
      "tensor([ 1., -1.,  1., -1., -1.,  1.,  0.,  1., -1.])\n"
     ]
    }
   ],
   "source": [
    "#Test:\n",
    "state = torch.tensor([ 1., -1.,  1., -1., -1.,  1,  0.,  1.,  0.],dtype=torch.float)\n",
    "end = False\n",
    "player = 1\n",
    "\n",
    "game = TicTacToe_Board()\n",
    "root = Node(state, 1, player)\n",
    "mcts = MCTS(game, root, dnn)\n",
    "\n",
    "game.plot(state)\n",
    "node = root\n",
    "# Expand state:\n",
    "mcts.player *= -1\n",
    "actions = game.avail_actions(node.state)\n",
    "mcts.expand(node, actions)\n",
    "a = torch.argmax(torch.tensor([child.P for child in node.children]))\n",
    "node = node.children[a]\n",
    "game.plot(node.state)\n",
    "\n",
    "end, winner = game.check_end(node.state)\n",
    "print(node.state)"
   ]
  },
  {
   "cell_type": "code",
   "execution_count": null,
   "metadata": {},
   "outputs": [],
   "source": []
  }
 ],
 "metadata": {
  "kernelspec": {
   "display_name": "Python 3",
   "language": "python",
   "name": "python3"
  },
  "language_info": {
   "codemirror_mode": {
    "name": "ipython",
    "version": 3
   },
   "file_extension": ".py",
   "mimetype": "text/x-python",
   "name": "python",
   "nbconvert_exporter": "python",
   "pygments_lexer": "ipython3",
   "version": "3.7.9"
  }
 },
 "nbformat": 4,
 "nbformat_minor": 4
}
