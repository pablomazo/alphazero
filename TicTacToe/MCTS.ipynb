{
 "cells": [
  {
   "cell_type": "code",
   "execution_count": 1,
   "metadata": {},
   "outputs": [],
   "source": [
    "import sys\n",
    "sys.path.append('../')"
   ]
  },
  {
   "cell_type": "code",
   "execution_count": 2,
   "metadata": {},
   "outputs": [],
   "source": [
    "from MCTS import MCTS\n",
    "from Node import Node\n",
    "from Game import TicTacToe_Board\n",
    "from random import random"
   ]
  },
  {
   "cell_type": "code",
   "execution_count": 3,
   "metadata": {},
   "outputs": [],
   "source": [
    "# Random policy evaluation to check MCTS\n",
    "def NN(state):\n",
    "    p = []\n",
    "    for elem in state:\n",
    "        p.append(random())\n",
    "    v = random()\n",
    "    return p,v"
   ]
  },
  {
   "cell_type": "code",
   "execution_count": 24,
   "metadata": {},
   "outputs": [
    {
     "name": "stdout",
     "output_type": "stream",
     "text": [
      "-------------\n",
      "|   |   |   | \n",
      "-------------\n",
      "|   |   |   | \n",
      "-------------\n",
      "|   |   | x | \n",
      "-------------\n",
      "-------------\n",
      "| o |   |   | \n",
      "-------------\n",
      "|   |   |   | \n",
      "-------------\n",
      "|   |   | x | \n",
      "-------------\n",
      "-------------\n",
      "| o | x |   | \n",
      "-------------\n",
      "|   |   |   | \n",
      "-------------\n",
      "|   |   | x | \n",
      "-------------\n",
      "-------------\n",
      "| o | x | o | \n",
      "-------------\n",
      "|   |   |   | \n",
      "-------------\n",
      "|   |   | x | \n",
      "-------------\n",
      "-------------\n",
      "| o | x | o | \n",
      "-------------\n",
      "| x |   |   | \n",
      "-------------\n",
      "|   |   | x | \n",
      "-------------\n",
      "-------------\n",
      "| o | x | o | \n",
      "-------------\n",
      "| x | o |   | \n",
      "-------------\n",
      "|   |   | x | \n",
      "-------------\n",
      "-------------\n",
      "| o | x | o | \n",
      "-------------\n",
      "| x | o |   | \n",
      "-------------\n",
      "|   | x | x | \n",
      "-------------\n",
      "-------------\n",
      "| o | x | o | \n",
      "-------------\n",
      "| x | o | o | \n",
      "-------------\n",
      "|   | x | x | \n",
      "-------------\n",
      "-------------\n",
      "| o | x | o | \n",
      "-------------\n",
      "| x | o | o | \n",
      "-------------\n",
      "| o | x | x | \n",
      "-------------\n"
     ]
    }
   ],
   "source": [
    "#MCTS game:\n",
    "T = 0.3\n",
    "state = [0]*9\n",
    "end = False\n",
    "player = 1\n",
    "\n",
    "game = TicTacToe_Board()\n",
    "root = Node(state, 1, player)\n",
    "mcts = MCTS(game, root, NN)\n",
    "\n",
    "node = root\n",
    "while not end:\n",
    "    mcts.explore(node)\n",
    "    a = mcts.play(node, T)\n",
    "    node = node.children[a]\n",
    "    game.plot(node.state)\n",
    "    \n",
    "    end, winner = game.check_end(node.state)"
   ]
  },
  {
   "cell_type": "code",
   "execution_count": 13,
   "metadata": {},
   "outputs": [
    {
     "name": "stdout",
     "output_type": "stream",
     "text": [
      "21\n",
      "0\n",
      "0\n",
      "6\n",
      "0\n",
      "0\n",
      "1\n",
      "0\n"
     ]
    }
   ],
   "source": [
    "for child in root.children[0].children:\n",
    "    print(child.N)"
   ]
  },
  {
   "cell_type": "code",
   "execution_count": null,
   "metadata": {},
   "outputs": [],
   "source": []
  }
 ],
 "metadata": {
  "kernelspec": {
   "display_name": "Python 3",
   "language": "python",
   "name": "python3"
  },
  "language_info": {
   "codemirror_mode": {
    "name": "ipython",
    "version": 3
   },
   "file_extension": ".py",
   "mimetype": "text/x-python",
   "name": "python",
   "nbconvert_exporter": "python",
   "pygments_lexer": "ipython3",
   "version": "3.7.9"
  }
 },
 "nbformat": 4,
 "nbformat_minor": 4
}
